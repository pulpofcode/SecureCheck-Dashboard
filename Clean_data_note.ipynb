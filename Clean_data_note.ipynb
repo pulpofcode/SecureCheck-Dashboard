{
 "cells": [
  {
   "cell_type": "markdown",
   "id": "669d5b2a",
   "metadata": {},
   "source": [
    "Before initializing, Need to Under stand the Data"
   ]
  },
  {
   "cell_type": "code",
   "execution_count": 17,
   "id": "e4e463fd",
   "metadata": {},
   "outputs": [
    {
     "name": "stdout",
     "output_type": "stream",
     "text": [
      "Top 5 Rows\n",
      "   stop_date stop_time country_name driver_gender  driver_age_raw  driver_age  \\\n",
      "0 2020-01-01  00:00:00       Canada             M              59          19   \n",
      "1 2020-01-01  00:01:00        India             M              35          58   \n",
      "2 2020-01-01  00:02:00          USA             M              26          76   \n",
      "3 2020-01-01  00:03:00       Canada             M              26          76   \n",
      "4 2020-01-01  00:04:00       Canada             M              62          75   \n",
      "\n",
      "  driver_race     violation_raw violation  search_conducted     search_type  \\\n",
      "0       Asian     Drunk Driving  Speeding              True  Vehicle Search   \n",
      "1       Other             Other     Other             False  Vehicle Search   \n",
      "2       Black  Signal Violation  Speeding             False           Frisk   \n",
      "3       Black          Speeding       DUI              True           Frisk   \n",
      "4       Other          Speeding     Other             False  Vehicle Search   \n",
      "\n",
      "  stop_outcome  is_arrested stop_duration  drugs_related_stop vehicle_number  \n",
      "0       Ticket         True     16-30 Min                True     UP76DY3473  \n",
      "1       Arrest         True     16-30 Min                True     RJ83PZ4441  \n",
      "2       Ticket         True     16-30 Min                True     RJ32OM7264  \n",
      "3      Warning        False      0-15 Min                True     RJ76TI3807  \n",
      "4       Arrest         True     16-30 Min               False     WB63BB8305  \n",
      "\n",
      " Columns Info:\n",
      "<class 'pandas.core.frame.DataFrame'>\n",
      "RangeIndex: 65538 entries, 0 to 65537\n",
      "Data columns (total 16 columns):\n",
      " #   Column              Non-Null Count  Dtype         \n",
      "---  ------              --------------  -----         \n",
      " 0   stop_date           65538 non-null  datetime64[ns]\n",
      " 1   stop_time           65538 non-null  object        \n",
      " 2   country_name        65538 non-null  object        \n",
      " 3   driver_gender       65538 non-null  object        \n",
      " 4   driver_age_raw      65538 non-null  int64         \n",
      " 5   driver_age          65538 non-null  int64         \n",
      " 6   driver_race         65538 non-null  object        \n",
      " 7   violation_raw       65538 non-null  object        \n",
      " 8   violation           65538 non-null  object        \n",
      " 9   search_conducted    65538 non-null  bool          \n",
      " 10  search_type         43818 non-null  object        \n",
      " 11  stop_outcome        65538 non-null  object        \n",
      " 12  is_arrested         65538 non-null  bool          \n",
      " 13  stop_duration       65538 non-null  object        \n",
      " 14  drugs_related_stop  65538 non-null  bool          \n",
      " 15  vehicle_number      65538 non-null  object        \n",
      "dtypes: bool(3), datetime64[ns](1), int64(2), object(10)\n",
      "memory usage: 6.7+ MB\n",
      "None\n"
     ]
    }
   ],
   "source": [
    "import pandas as pd\n",
    "df = pd.read_excel(\"traffic_stops.xlsx\")\n",
    "print(\"Top 5 Rows\")\n",
    "print(df.head())\n",
    "print(\"\\n Columns Info:\")\n",
    "print(df.info())"
   ]
  },
  {
   "cell_type": "code",
   "execution_count": 41,
   "id": "70ba7ca5",
   "metadata": {},
   "outputs": [
    {
     "data": {
      "text/plain": [
       "Index(['stop_date', 'stop_time', 'country_name', 'driver_gender',\n",
       "       'driver_age_raw', 'driver_age', 'driver_race', 'violation_raw',\n",
       "       'violation', 'search_conducted', 'search_type', 'stop_outcome',\n",
       "       'is_arrested', 'stop_duration', 'drugs_related_stop', 'vehicle_number'],\n",
       "      dtype='object')"
      ]
     },
     "execution_count": 41,
     "metadata": {},
     "output_type": "execute_result"
    }
   ],
   "source": [
    "df.columns"
   ]
  },
  {
   "cell_type": "markdown",
   "id": "720b6f7e",
   "metadata": {},
   "source": [
    "To Create a Database"
   ]
  },
  {
   "cell_type": "code",
   "execution_count": null,
   "id": "df708478",
   "metadata": {},
   "outputs": [],
   "source": [
    "import mysql.connector\n",
    "connection = mysql.connector.connect(\n",
    "    host=\"localhost\",\n",
    "    user=\"root\",\n",
    "    password = \"SQL@123sql\",\n",
    ")\n",
    "cursor = connection.cursor()\n",
    "\n",
    "query = \"CREATE DATABASE securecheck\"\n",
    "cursor.execute(query)"
   ]
  },
  {
   "cell_type": "markdown",
   "id": "d4789b35",
   "metadata": {},
   "source": [
    "To create Tables in the DB"
   ]
  },
  {
   "cell_type": "code",
   "execution_count": 12,
   "id": "f6321c29",
   "metadata": {},
   "outputs": [],
   "source": [
    "import mysql.connector\n",
    "connection = mysql.connector.connect(\n",
    "    host=\"localhost\",\n",
    "    user=\"root\",\n",
    "    password = \"SQL@123sql\",\n",
    "    database=\"securecheck\"\n",
    ")\n",
    "cursor = connection.cursor()\n",
    "\n",
    "query = \"CREATE TABLE checkpost_data (stop_date DATE, stop_time TIME, country_name VARCHAR(100), driver_gender VARCHAR(10), driver_age_raw INT, driver_age INT, driver_race VARCHAR(50), violation_raw VARCHAR(100), violation VARCHAR(100), search_conducted BOOLEAN, search_type VARCHAR(100), stop_outcome VARCHAR(100), is_arrested BOOLEAN, stop_duration VARCHAR(50), drugs_related_stop BOOLEAN,vehicle_number VARCHAR(50))\"\n",
    "cursor.execute(query)"
   ]
  },
  {
   "cell_type": "markdown",
   "id": "b584883f",
   "metadata": {},
   "source": [
    "Database and Table is created. Now we need to go back to the data clean and prepare it to push it to the database"
   ]
  },
  {
   "cell_type": "markdown",
   "id": "38010c58",
   "metadata": {},
   "source": [
    "Initializing, Cleaning and Preparation of Data\n",
    "\n",
    "Checking for the NULL Values"
   ]
  },
  {
   "cell_type": "code",
   "execution_count": 26,
   "id": "940141d0",
   "metadata": {},
   "outputs": [
    {
     "name": "stdout",
     "output_type": "stream",
     "text": [
      "\n",
      "Missing values per column:\n",
      "stop_date                 0\n",
      "stop_time                 0\n",
      "country_name              0\n",
      "driver_gender             0\n",
      "driver_age_raw            0\n",
      "driver_age                0\n",
      "driver_race               0\n",
      "violation_raw             0\n",
      "violation                 0\n",
      "search_conducted          0\n",
      "search_type           21720\n",
      "stop_outcome              0\n",
      "is_arrested               0\n",
      "stop_duration             0\n",
      "drugs_related_stop        0\n",
      "vehicle_number            0\n",
      "dtype: int64\n"
     ]
    }
   ],
   "source": [
    "df = pd.read_excel(\"traffic_stops.xlsx\")\n",
    "print(\"\\nMissing values per column:\")\n",
    "print(df.isnull().sum())\n"
   ]
  },
  {
   "cell_type": "markdown",
   "id": "f62625e4",
   "metadata": {},
   "source": [
    "Observation : Out of all the columns only search_type has missing values or Null Values\n",
    "\n",
    "Next - Further Inspection needed if Search is conducted or Not. To fill the Null Value Fields"
   ]
  },
  {
   "cell_type": "code",
   "execution_count": 30,
   "id": "57c63acd",
   "metadata": {},
   "outputs": [
    {
     "name": "stdout",
     "output_type": "stream",
     "text": [
      "Number of inconsistent rows where is search is conducted: 10870\n",
      "Number of inconsistent rows where is search is not conducted: 10850\n"
     ]
    }
   ],
   "source": [
    "inconsistent_rows = df[(df['search_type'].isnull()) & (df['search_conducted'] == True)]\n",
    "print(f\"Number of inconsistent rows where is search is conducted: {len(inconsistent_rows)}\")\n",
    "\n",
    "inconsistent_rows2 = df[(df['search_type'].isnull()) & (df['search_conducted'] == False)]\n",
    "print(f\"Number of inconsistent rows where is search is not conducted: {len(inconsistent_rows2)}\")"
   ]
  },
  {
   "cell_type": "markdown",
   "id": "ed55a7e1",
   "metadata": {},
   "source": [
    "Observation : Almost Half of the Search type data is not filled for both the search scenario\n",
    "\n",
    "For Null Value where search is conducted, It can be filled with \"Search Type Not Specified\"\n",
    "\n",
    "For Null Value where search is not conducted, Need to check values where search conducted is False. To make the data redundant"
   ]
  },
  {
   "cell_type": "code",
   "execution_count": 35,
   "id": "3ee1d978",
   "metadata": {},
   "outputs": [
    {
     "name": "stdout",
     "output_type": "stream",
     "text": [
      "The Labels used are : ['Vehicle Search' 'Frisk' nan]\n"
     ]
    }
   ],
   "source": [
    "Labels_used = df[df['search_conducted'] == False]['search_type'].unique()\n",
    "print(f\"The Labels used are : {Labels_used}\")"
   ]
  },
  {
   "cell_type": "markdown",
   "id": "52e53d34",
   "metadata": {},
   "source": [
    "Observation : It has the Values - 'Vehicle Search' & 'Frisk', which means there is discrpancy in the search_conducted columns.\n",
    "\n",
    "Next : The search_conducted columns values should be corrected where the Data Points in search_type column is not null"
   ]
  },
  {
   "cell_type": "code",
   "execution_count": null,
   "id": "6defa476",
   "metadata": {},
   "outputs": [],
   "source": [
    "df.loc[(df['search_type'] == \"Vehicle Search\") | (df['search_type'] == \"Frisk\"), 'search_conducted'] = True"
   ]
  },
  {
   "cell_type": "markdown",
   "id": "2202e45f",
   "metadata": {},
   "source": [
    "Once the Values have been corrected, I can update the Null Values"
   ]
  },
  {
   "cell_type": "code",
   "execution_count": 38,
   "id": "218b09f0",
   "metadata": {},
   "outputs": [],
   "source": [
    "df.loc[(df['search_type'].isnull()) & (df['search_conducted'] == True), 'search_type'] = \"Search Type Not Specified\"\n",
    "df.loc[(df['search_type'].isnull()) & (df['search_conducted'] == False), 'search_type'] = \"No Search, Vehicle all green\""
   ]
  },
  {
   "cell_type": "markdown",
   "id": "b86a6724",
   "metadata": {},
   "source": [
    "Doing a Double check to know if there still some Null Values left"
   ]
  },
  {
   "cell_type": "code",
   "execution_count": 39,
   "id": "435b742e",
   "metadata": {},
   "outputs": [
    {
     "name": "stdout",
     "output_type": "stream",
     "text": [
      "\n",
      "Missing values per column:\n",
      "stop_date             0\n",
      "stop_time             0\n",
      "country_name          0\n",
      "driver_gender         0\n",
      "driver_age_raw        0\n",
      "driver_age            0\n",
      "driver_race           0\n",
      "violation_raw         0\n",
      "violation             0\n",
      "search_conducted      0\n",
      "search_type           0\n",
      "stop_outcome          0\n",
      "is_arrested           0\n",
      "stop_duration         0\n",
      "drugs_related_stop    0\n",
      "vehicle_number        0\n",
      "dtype: int64\n"
     ]
    }
   ],
   "source": [
    "print(\"\\nMissing values per column:\")\n",
    "print(df.isnull().sum())"
   ]
  },
  {
   "cell_type": "markdown",
   "id": "27f4c038",
   "metadata": {},
   "source": [
    "Oservation : No Null Values now. Data is ready to be pushed to Database."
   ]
  },
  {
   "cell_type": "code",
   "execution_count": 40,
   "id": "39e03d20",
   "metadata": {},
   "outputs": [],
   "source": [
    "connection = mysql.connector.connect(\n",
    "    host=\"localhost\",\n",
    "    user=\"root\",\n",
    "    password=\"SQL@123sql\",\n",
    "    database=\"securecheck\"\n",
    ")\n",
    "cursor = connection.cursor()\n",
    "\n",
    "columns = \",\".join(df.columns)\n",
    "placeholders = \",\".join([\"%s\"] * len(df.columns))\n",
    "\n",
    "insert_query = f\"INSERT INTO checkpost_data ({columns}) VALUES ({placeholders})\"\n",
    "data = [tuple(row) for row in df.itertuples(index=False, name=None)]\n",
    "cursor.executemany(insert_query, data)\n",
    "connection.commit()\n"
   ]
  },
  {
   "cell_type": "markdown",
   "id": "a4e38b74",
   "metadata": {},
   "source": [
    "Data Cleaned, Prepared and Pushed to the Database"
   ]
  }
 ],
 "metadata": {
  "kernelspec": {
   "display_name": ".venv",
   "language": "python",
   "name": "python3"
  },
  "language_info": {
   "codemirror_mode": {
    "name": "ipython",
    "version": 3
   },
   "file_extension": ".py",
   "mimetype": "text/x-python",
   "name": "python",
   "nbconvert_exporter": "python",
   "pygments_lexer": "ipython3",
   "version": "3.13.2"
  }
 },
 "nbformat": 4,
 "nbformat_minor": 5
}
